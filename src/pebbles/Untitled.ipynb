{
 "cells": [
  {
   "cell_type": "code",
   "execution_count": 4,
   "metadata": {},
   "outputs": [
    {
     "name": "stdout",
     "output_type": "stream",
     "text": [
      "env: OMP_NUM_THREADS=8\n"
     ]
    }
   ],
   "source": [
    "import numpy as np\n",
    "import healpy as hp\n",
    "import matplotlib.pyplot as plt\n",
    "import V3calc as v3\n",
    "import pymaster as nmt\n",
    "import os\n",
    "from classy import Class\n",
    "%env OMP_NUM_THREADS=8\n",
    "%matplotlib notebook"
   ]
  },
  {
   "cell_type": "code",
   "execution_count": 15,
   "metadata": {
    "collapsed": true
   },
   "outputs": [],
   "source": [
    "def get_nhits(nside_out=64) :\n",
    "    \"\"\"\n",
    "    Generates an Nhits map in Galactic coordinates.\n",
    "    nside_out : output resolution\n",
    "    \"\"\"\n",
    "    fname_out='norm_nHits_SA_35FOV_G.fits'\n",
    "\n",
    "    if not os.path.isfile(fname_out) :\n",
    "        fname_in='norm_nHits_SA_35FOV.fits'\n",
    "        mp_C=hp.read_map(fname_in,verbose=False)\n",
    "        nside_l=hp.npix2nside(len(mp_C))\n",
    "\n",
    "        nside_h=512\n",
    "        ipixG=np.arange(hp.nside2npix(nside_h))\n",
    "        thG,phiG=hp.pix2ang(nside_h,ipixG)\n",
    "        r=hp.Rotator(coord=['G','C'])\n",
    "        thC,phiC=r(thG,phiG)\n",
    "        ipixC=hp.ang2pix(nside_l,thC,phiC)\n",
    "\n",
    "        mp_G=hp.ud_grade(mp_C[ipixC],nside_out=nside_l)\n",
    "        hp.write_map(fname_out,mp_G)\n",
    "\n",
    "    return hp.ud_grade(hp.read_map(fname_out,verbose=False),\n",
    "                       nside_out=nside_out)\n",
    "\n",
    "def get_mask(nside_out=512) :\n",
    "    \"\"\"\n",
    "    Generates inverse-variance mask from Nhits map\n",
    "    nside_out : output resolution\n",
    "    \"\"\"\n",
    "    zer0=1E-6\n",
    "    nh=get_nhits(nside_out=nside_out)\n",
    "    nh/=np.amax(nh)\n",
    "    msk=np.zeros(len(nh))\n",
    "    not0=np.where(nh>zer0)[0]\n",
    "    msk[not0]=nh[not0]\n",
    "    return msk\n",
    "\n",
    "def get_noise_sim(sensitivity=2,knee_mode=1,ny_lf=1.,nside_out=512) :\n",
    "    \"\"\"\n",
    "    Generates noise simulation\n",
    "    sensitivity : choice of sensitivity model for SAC's V3\n",
    "    knee_mode : choice of ell_knee model for SAC's V3\n",
    "    ny_lf : number of years with an LF tube\n",
    "    nside_out : output resolution\n",
    "    \"\"\"\n",
    "    nh=get_nhits(nside_out=nside_out)\n",
    "    msk=get_mask(nside_out=nside_out)\n",
    "    fsky=np.mean(msk)\n",
    "    ll,nll,nlev=v3.so_V3_SA_noise(sensitivity,knee_mode,ny_lf,fsky,3*nside_out,remove_kluge=True)\n",
    "    zer0=1E-6\n",
    "    id_cut=np.where(nh<zer0)[0]\n",
    "    nh[id_cut]=np.amax(nh) #zer0\n",
    "    mps_no=[];\n",
    "    for i_n in np.arange(len(nll)) :\n",
    "        n=nll[i_n]\n",
    "        nl=np.zeros(3*nside_out)\n",
    "        nl[2:]=n; nl[:2]=n[0]\n",
    "        no_t,no_q,no_u=hp.synfast([nl/2.,nl,nl,0*nl,0*nl,0*nl],nside=nside_out,\n",
    "                                  pol=True,new=True,verbose=False)\n",
    "        nv_t=nlev[i_n]*np.ones_like(no_t)/np.sqrt(2.);\n",
    "        nv_q=nlev[i_n]*np.ones_like(no_q); nv_u=nlev[i_n]*np.ones_like(no_u)\n",
    "        no_t/=np.sqrt(nh/np.amax(nh)); no_q/=np.sqrt(nh/np.amax(nh)); no_u/=np.sqrt(nh/np.amax(nh));\n",
    "        nv_t/=np.sqrt(nh/np.amax(nh)); nv_q/=np.sqrt(nh/np.amax(nh)); nv_u/=np.sqrt(nh/np.amax(nh));\n",
    "        mps_no.append([no_t,no_q,no_u])\n",
    "    mps_no=np.array(mps_no)\n",
    "    return msk,mps_no\n",
    "\n",
    "def get_cls(lmax=2000):\n",
    "    params = {\n",
    "    'output': 'tCl pCl lCl',\n",
    "    'l_max_scalars': 2000,\n",
    "    'lensing': 'yes',\n",
    "    'A_s': 2.3e-9,\n",
    "    'n_s': 0.9624, \n",
    "    'h': 0.6711,\n",
    "    'omega_b': 0.022068,\n",
    "    'omega_cdm': 0.12029, \n",
    "    }\n",
    "\n",
    "    # Create an instance of the CLASS wrapper\n",
    "    cosmo = Class()\n",
    "\n",
    "    # Set the parameters to the cosmological code\n",
    "    cosmo.set(params)\n",
    "\n",
    "    # Run the whole code. Depending on your output, it will call the\n",
    "    # CLASS modules more or less fast. For instance, without any\n",
    "    # output asked, CLASS will only compute background quantities,\n",
    "    # thus running almost instantaneously.\n",
    "    # This is equivalent to the beginning of the `main` routine of CLASS,\n",
    "    # with all the struct_init() methods called.\n",
    "    cosmo.compute()\n",
    "\n",
    "    # Access the lensed cl until l=2000\n",
    "    cls = cosmo.lensed_cl(lmax)\n",
    "    \n",
    "    return arrayify_class(cls)\n",
    "    \n",
    "def arrayify_class(cls):\n",
    "    array = np.array([cls['tt'], cls['ee'], cls['bb'], cls['te']])\n",
    "    return array\n",
    "\n",
    "def cmb_sims(nside, cls, seed=None):\n",
    "    np.random.seed(seed)\n",
    "    maps = hp.synfast(cls, nside, new=True)\n",
    "    return maps\n",
    "\n",
    "def noise_sims(inv_var_map, seed=None):\n",
    "    np.random.seed(seed)\n",
    "    normal = np.random.randn(*inv_var_map.shape)\n",
    "    sigma = np.sqrt(1. / inv_var_map)\n",
    "    return sigma * normal\n",
    "\n",
    "def run_nama(mask, maps, bins, nside=256):\n",
    "    f0 = nmt.NmtField(mask, [maps[0]])\n",
    "    f2 = nmt.NmtField(mask, [maps[1], maps[2]], purify_b=True)\n",
    "    TT = nmt.compute_full_master(f0, f0, bins)\n",
    "    POL = nmt.compute_full_master(f2, f2, bins)\n",
    "    return np.concatenate((TT, POL[[0, 3, 1]]), axis=0)\n",
    "\n",
    "def run_sim(nside, Nmc, mask, nlb=1):\n",
    "    bins = nmt.NmtBin(nside, nlb=nlb)\n",
    "    lmax = 3 * nside\n",
    "    cls_th = get_cls(lmax=lmax)\n",
    "    cl_est = np.zeros((4, bins.get_n_bands()))\n",
    "    cl_est_sq = np.zeros((4, bins.get_n_bands()))\n",
    "    for i in range(Nmc):\n",
    "        cmb = cmb_sims(nside, cls_th)\n",
    "        c = run_nama(mask, cmb, bins, nside)\n",
    "        cl_est += c\n",
    "        cl_est_sq += c ** 2\n",
    "    cl_est /= Nmc\n",
    "    cl_est_sq /= Nmc\n",
    "    return cl_est, cl_est_sq\n"
   ]
  },
  {
   "cell_type": "code",
   "execution_count": 21,
   "metadata": {},
   "outputs": [
    {
     "name": "stdout",
     "output_type": "stream",
     "text": [
      "Sigma is 0.000000 arcmin (0.000000 rad) \n",
      "-> fwhm is 0.000000 arcmin\n"
     ]
    }
   ],
   "source": [
    "nside = 64\n",
    "(res_mean, res_var) = run_sim(nside, 1, np.ones(hp.nside2npix(nside)))\n",
    "large_mask,maps=get_noise_sim(nside_out=nside)"
   ]
  },
  {
   "cell_type": "code",
   "execution_count": 23,
   "metadata": {},
   "outputs": [
    {
     "data": {
      "text/plain": [
       "[<matplotlib.lines.Line2D at 0x7f4044161438>]"
      ]
     },
     "execution_count": 23,
     "metadata": {},
     "output_type": "execute_result"
    },
    {
     "data": {
      "image/png": "[encoded data removed]",
      "text/plain": [
       "<matplotlib.figure.Figure at 0x7f4044161f98>"
      ]
     },
     "metadata": {},
     "output_type": "display_data"
    }
   ],
   "source": [
    "fig, ax = plt.subplots(1, 1)\n",
    "ax.loglog(res_mean[1,:])"
   ]
  },
  {
   "cell_type": "code",
   "execution_count": 9,
   "metadata": {},
   "outputs": [
    {
     "name": "stdout",
     "output_type": "stream",
     "text": [
      "Sigma is 0.000000 arcmin (0.000000 rad) \n",
      "-> fwhm is 0.000000 arcmin\n"
     ]
    },
    {
     "ename": "ValueError",
     "evalue": "operands could not be broadcast together with shapes (4,193) (4,190) (4,193) ",
     "output_type": "error",
     "traceback": [
      "\u001b[0;31m---------------------------------------------------------------------------\u001b[0m",
      "\u001b[0;31mValueError\u001b[0m                                Traceback (most recent call last)",
      "\u001b[0;32m<ipython-input-9-b590e7c91c44>\u001b[0m in \u001b[0;36m<module>\u001b[0;34m()\u001b[0m\n\u001b[1;32m      1\u001b[0m \u001b[0mnside\u001b[0m \u001b[0;34m=\u001b[0m \u001b[0;36m64\u001b[0m\u001b[0;34m\u001b[0m\u001b[0m\n\u001b[0;32m----> 2\u001b[0;31m \u001b[0mres\u001b[0m \u001b[0;34m=\u001b[0m \u001b[0mrun_sim\u001b[0m\u001b[0;34m(\u001b[0m\u001b[0mnside\u001b[0m\u001b[0;34m,\u001b[0m \u001b[0;36m1\u001b[0m\u001b[0;34m,\u001b[0m \u001b[0mnp\u001b[0m\u001b[0;34m.\u001b[0m\u001b[0mones\u001b[0m\u001b[0;34m(\u001b[0m\u001b[0mhp\u001b[0m\u001b[0;34m.\u001b[0m\u001b[0mnside2npix\u001b[0m\u001b[0;34m(\u001b[0m\u001b[0mnside\u001b[0m\u001b[0;34m)\u001b[0m\u001b[0;34m)\u001b[0m\u001b[0;34m)\u001b[0m\u001b[0;34m\u001b[0m\u001b[0m\n\u001b[0m\u001b[1;32m      3\u001b[0m \u001b[0mlarge_mask\u001b[0m\u001b[0;34m,\u001b[0m\u001b[0mmaps\u001b[0m\u001b[0;34m=\u001b[0m\u001b[0mget_noise_sim\u001b[0m\u001b[0;34m(\u001b[0m\u001b[0mnside_out\u001b[0m\u001b[0;34m=\u001b[0m\u001b[0mnside\u001b[0m\u001b[0;34m)\u001b[0m\u001b[0;34m\u001b[0m\u001b[0m\n\u001b[1;32m      4\u001b[0m \u001b[0;34m\u001b[0m\u001b[0m\n\u001b[1;32m      5\u001b[0m \u001b[0mmp_plot\u001b[0m\u001b[0;34m=\u001b[0m\u001b[0mmaps\u001b[0m\u001b[0;34m[\u001b[0m\u001b[0;36m3\u001b[0m\u001b[0;34m]\u001b[0m\u001b[0;34m[\u001b[0m\u001b[0;36m1\u001b[0m\u001b[0;34m]\u001b[0m\u001b[0;34m*\u001b[0m\u001b[0mlarge_mask\u001b[0m\u001b[0;34m\u001b[0m\u001b[0m\n",
      "\u001b[0;32m<ipython-input-8-0eb91d64bca8>\u001b[0m in \u001b[0;36mrun_sim\u001b[0;34m(nside, Nmc, mask, nlb)\u001b[0m\n\u001b[1;32m    129\u001b[0m         \u001b[0mcmb\u001b[0m \u001b[0;34m=\u001b[0m \u001b[0mcmb_sims\u001b[0m\u001b[0;34m(\u001b[0m\u001b[0mnside\u001b[0m\u001b[0;34m,\u001b[0m \u001b[0mcls_th\u001b[0m\u001b[0;34m)\u001b[0m\u001b[0;34m\u001b[0m\u001b[0m\n\u001b[1;32m    130\u001b[0m         \u001b[0mc\u001b[0m \u001b[0;34m=\u001b[0m \u001b[0mrun_nama\u001b[0m\u001b[0;34m(\u001b[0m\u001b[0mmask\u001b[0m\u001b[0;34m,\u001b[0m \u001b[0mcmb\u001b[0m\u001b[0;34m,\u001b[0m \u001b[0mnside\u001b[0m\u001b[0;34m,\u001b[0m \u001b[0mnlb\u001b[0m\u001b[0;34m=\u001b[0m\u001b[0mnlb\u001b[0m\u001b[0;34m)\u001b[0m\u001b[0;34m\u001b[0m\u001b[0m\n\u001b[0;32m--> 131\u001b[0;31m         \u001b[0mcl_est\u001b[0m \u001b[0;34m+=\u001b[0m \u001b[0mc\u001b[0m\u001b[0;34m\u001b[0m\u001b[0m\n\u001b[0m\u001b[1;32m    132\u001b[0m         \u001b[0mcl_est_sq\u001b[0m \u001b[0;34m+=\u001b[0m \u001b[0mc\u001b[0m \u001b[0;34m**\u001b[0m \u001b[0;36m2\u001b[0m\u001b[0;34m\u001b[0m\u001b[0m\n\u001b[1;32m    133\u001b[0m     \u001b[0mcl_est\u001b[0m \u001b[0;34m/=\u001b[0m \u001b[0mNmc\u001b[0m\u001b[0;34m\u001b[0m\u001b[0m\n",
      "\u001b[0;31mValueError\u001b[0m: operands could not be broadcast together with shapes (4,193) (4,190) (4,193) "
     ]
    }
   ],
   "source": [
    "mp_plot=maps[3][1]*large_mask\n",
    "mp_plot[large_mask<=0]=hp.UNSEEN"
   ]
  },
  {
   "cell_type": "code",
   "execution_count": null,
   "metadata": {},
   "outputs": [],
   "source": [
    "cls = run_simulations()\n",
    "maps = cmb_sims(nside, cls)\n",
    "mask = np.ones(hp.nside2npix(nside))\n",
    "cls_comp = run_nama(mask, maps)\n",
    "cls_ana = hp.anafast(maps)"
   ]
  },
  {
   "cell_type": "code",
   "execution_count": null,
   "metadata": {},
   "outputs": [],
   "source": [
    "fig, ax = plt.subplots(1, 1)\n",
    "b = nmt.NmtBin(nside, nlb=1)\n",
    "ax.loglog(cls[0])\n",
    "ax.loglog(cls_ana[0])\n",
    "ax.loglog(b.get_effective_ells(), cls_comp[0])\n",
    "ax.loglog(cls[1])\n",
    "ax.loglog(cls_ana[1])\n",
    "ax.loglog(b.get_effective_ells(), cls_comp[1])\n",
    "ax.loglog(cls[2])\n",
    "ax.loglog(cls_ana[2])\n",
    "ax.loglog(b.get_effective_ells(), cls_comp[2])"
   ]
  },
  {
   "cell_type": "code",
   "execution_count": null,
   "metadata": {},
   "outputs": [],
   "source": [
    "small_mask = hp.ud_grade(hp.read_map(\"mask_04000.fits\"), nside_out=256)\n",
    "apo_mask = nmt.mask_apodization(small_mask, 5., apotype=\"C1\")"
   ]
  },
  {
   "cell_type": "code",
   "execution_count": null,
   "metadata": {
    "collapsed": true
   },
   "outputs": [],
   "source": [
    "cls_small_mask = run_nama(apo_mask, maps, nlb=10)"
   ]
  },
  {
   "cell_type": "code",
   "execution_count": null,
   "metadata": {
    "collapsed": true
   },
   "outputs": [],
   "source": [
    "b = nmt.NmtBin(nside, nlb=10)"
   ]
  },
  {
   "cell_type": "code",
   "execution_count": null,
   "metadata": {},
   "outputs": [],
   "source": [
    "fig, ax = plt.subplots(1, 1)\n",
    "ax.loglog(cls[0])\n",
    "ax.loglog(b.get_effective_ells(), cls_small_mask[0])\n",
    "ax.loglog(cls[1])\n",
    "ax.loglog(b.get_effective_ells(), cls_small_mask[1])\n",
    "ax.loglog(cls[2])\n",
    "ax.loglog(b.get_effective_ells(), cls_small_mask[2])"
   ]
  },
  {
   "cell_type": "code",
   "execution_count": null,
   "metadata": {},
   "outputs": [],
   "source": [
    "mask = hp.read_map(\"mask_04000.fits\")"
   ]
  },
  {
   "cell_type": "code",
   "execution_count": null,
   "metadata": {},
   "outputs": [],
   "source": []
  },
  {
   "cell_type": "code",
   "execution_count": null,
   "metadata": {},
   "outputs": [],
   "source": []
  },
  {
   "cell_type": "code",
   "execution_count": null,
   "metadata": {
    "collapsed": true
   },
   "outputs": [],
   "source": [
    "filled_mask = np.copy(large_mask)\n",
    "filled_mask[np.argwhere(large_mask>0)] = 1"
   ]
  },
  {
   "cell_type": "code",
   "execution_count": null,
   "metadata": {},
   "outputs": [],
   "source": [
    "hp.mollview(mask)\n",
    "hp.mollview(large_mask)\n",
    "hp.mollview(filled_mask)\n",
    "print(np.mean(filled_mask))"
   ]
  },
  {
   "cell_type": "code",
   "execution_count": null,
   "metadata": {
    "collapsed": true
   },
   "outputs": [],
   "source": []
  },
  {
   "cell_type": "code",
   "execution_count": null,
   "metadata": {
    "collapsed": true
   },
   "outputs": [],
   "source": []
  },
  {
   "cell_type": "code",
   "execution_count": null,
   "metadata": {
    "collapsed": true
   },
   "outputs": [],
   "source": []
  }
 ],
 "metadata": {
  "kernelspec": {
   "display_name": "Python (3.5)",
   "language": "python",
   "name": "py35"
  },
  "language_info": {
   "codemirror_mode": {
    "name": "ipython",
    "version": 3
   },
   "file_extension": ".py",
   "mimetype": "text/x-python",
   "name": "python",
   "nbconvert_exporter": "python",
   "pygments_lexer": "ipython3",
   "version": "3.5.4"
  }
 },
 "nbformat": 4,
 "nbformat_minor": 2
}
